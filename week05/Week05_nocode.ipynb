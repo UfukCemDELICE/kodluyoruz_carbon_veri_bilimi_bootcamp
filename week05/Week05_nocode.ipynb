{
 "cells": [
  {
   "cell_type": "code",
   "execution_count": 1,
   "metadata": {},
   "outputs": [],
   "source": [
    "import numpy as np\n",
    "import keras\n",
    "import torch\n",
    "from sklearn.model_selection import train_test_split\n",
    "from sklearn.metrics import accuracy_score, confusion_matrix"
   ]
  },
  {
   "cell_type": "code",
   "execution_count": 3,
   "metadata": {},
   "outputs": [],
   "source": [
    "def split_data(data):\n",
    "        X = data[:,:-1]\n",
    "        y = data[:,-1]\n",
    "        X_train, X_test, y_train, y_test = train_test_split(X, \n",
    "                                                            y,\n",
    "                                                            test_size=0.2,\n",
    "                                                            random_state=42)\n",
    "        return X_train, X_test, y_train, y_test\n",
    "        \n",
    "\n",
    "def create_data(number_of_data:int, low_value:int, high_value:int) -> list:\n",
    "        \"\"\"Helper function for creating data between the interval of low_value and high_value.\"\"\"\n",
    "        data = []\n",
    "        for i in range(number_of_data):\n",
    "            x1 = np.random.randint(low=low_value, high=high_value)\n",
    "            x2 = np.random.randint(low=low_value, high=high_value)\n",
    "            if x1 < high_value//2 and x2 > high_value//2:\n",
    "                data.append([x1,x2,1])\n",
    "            elif x1 < high_value//2 and x2 < high_value//2:\n",
    "                data.append([x1,x2,0])\n",
    "            elif x1 > high_value//2 and x2 > high_value//2:\n",
    "                data.append([x1,x2,0])\n",
    "            else:\n",
    "                data.append([x1,x2,1])\n",
    "        data = split_data(np.asarray(data))\n",
    "        return data  "
   ]
  },
  {
   "cell_type": "code",
   "execution_count": 26,
   "metadata": {},
   "outputs": [],
   "source": [
    "X_train, X_test, y_train, y_test = create_data(number_of_data=1000, low_value=0, high_value=100)"
   ]
  },
  {
   "cell_type": "code",
   "execution_count": 8,
   "metadata": {},
   "outputs": [
    {
     "data": {
      "text/plain": [
       "['Input', 'Layer1', 'Layer2', 'Output']"
      ]
     },
     "execution_count": 8,
     "metadata": {},
     "output_type": "execute_result"
    }
   ],
   "source": [
    "# model = Input -> Layer -> Layer -> Output\n",
    "model = [] #list()\n",
    "\n",
    "model.append(\"Input\")\n",
    "model.append(\"Layer1\")\n",
    "model.append(\"Layer2\")\n",
    "model.append(\"Output\")\n",
    "\n",
    "model"
   ]
  },
  {
   "cell_type": "code",
   "execution_count": 11,
   "metadata": {},
   "outputs": [
    {
     "data": {
      "text/plain": [
       "(800, 2)"
      ]
     },
     "execution_count": 11,
     "metadata": {},
     "output_type": "execute_result"
    }
   ],
   "source": [
    "data[0].shape"
   ]
  },
  {
   "cell_type": "code",
   "execution_count": 12,
   "metadata": {},
   "outputs": [
    {
     "data": {
      "text/plain": [
       "array([ 4, 23])"
      ]
     },
     "execution_count": 12,
     "metadata": {},
     "output_type": "execute_result"
    }
   ],
   "source": [
    "data[0][0]"
   ]
  },
  {
   "cell_type": "code",
   "execution_count": 31,
   "metadata": {},
   "outputs": [],
   "source": [
    "model = keras.models.Sequential()\n",
    "\n",
    "model.add(keras.layers.Input(shape=(2, ), name=\"Input Layer\"))\n",
    "model.add(keras.layers.Dense(2, activation=\"relu\", name=\"Layer1\"))\n",
    "model.add(keras.layers.Dense(1, activation=\"sigmoid\", name=\"Layer2\"))"
   ]
  },
  {
   "cell_type": "code",
   "execution_count": 32,
   "metadata": {},
   "outputs": [
    {
     "name": "stdout",
     "output_type": "stream",
     "text": [
      "Model: \"sequential_3\"\n",
      "_________________________________________________________________\n",
      " Layer (type)                Output Shape              Param #   \n",
      "=================================================================\n",
      " Layer1 (Dense)              (None, 2)                 6         \n",
      "                                                                 \n",
      " Layer2 (Dense)              (None, 1)                 3         \n",
      "                                                                 \n",
      "=================================================================\n",
      "Total params: 9\n",
      "Trainable params: 9\n",
      "Non-trainable params: 0\n",
      "_________________________________________________________________\n"
     ]
    }
   ],
   "source": [
    "model.summary()"
   ]
  },
  {
   "cell_type": "code",
   "execution_count": 33,
   "metadata": {},
   "outputs": [],
   "source": [
    "model.compile(optimizer=keras.optimizers.adam_v2.Adam(),\n",
    "              loss=\"binary_crossentropy\",\n",
    "              metrics=[\"accuracy\"])"
   ]
  },
  {
   "cell_type": "code",
   "execution_count": 34,
   "metadata": {},
   "outputs": [
    {
     "data": {
      "text/plain": [
       "array([[50, 60],\n",
       "       [34, 31]])"
      ]
     },
     "execution_count": 34,
     "metadata": {},
     "output_type": "execute_result"
    }
   ],
   "source": [
    "X_train[0:2]"
   ]
  },
  {
   "cell_type": "code",
   "execution_count": 35,
   "metadata": {},
   "outputs": [
    {
     "data": {
      "text/plain": [
       "array([1, 0])"
      ]
     },
     "execution_count": 35,
     "metadata": {},
     "output_type": "execute_result"
    }
   ],
   "source": [
    "y_train[:2]"
   ]
  },
  {
   "cell_type": "code",
   "execution_count": 36,
   "metadata": {},
   "outputs": [
    {
     "name": "stdout",
     "output_type": "stream",
     "text": [
      "Epoch 1/10\n",
      "800/800 [==============================] - 9s 9ms/step - loss: 0.6700 - accuracy: 0.5900\n",
      "Epoch 2/10\n",
      "800/800 [==============================] - 7s 8ms/step - loss: 0.6288 - accuracy: 0.6538\n",
      "Epoch 3/10\n",
      "800/800 [==============================] - 5s 6ms/step - loss: 0.6039 - accuracy: 0.6662\n",
      "Epoch 4/10\n",
      "800/800 [==============================] - 4s 5ms/step - loss: 0.5920 - accuracy: 0.6687\n",
      "Epoch 5/10\n",
      "800/800 [==============================] - 4s 5ms/step - loss: 0.5841 - accuracy: 0.6812\n",
      "Epoch 6/10\n",
      "800/800 [==============================] - 3s 4ms/step - loss: 0.5830 - accuracy: 0.6775\n",
      "Epoch 7/10\n",
      "800/800 [==============================] - 3s 4ms/step - loss: 0.5764 - accuracy: 0.6900\n",
      "Epoch 8/10\n",
      "800/800 [==============================] - 3s 4ms/step - loss: 0.5759 - accuracy: 0.6925\n",
      "Epoch 9/10\n",
      "800/800 [==============================] - 3s 4ms/step - loss: 0.5733 - accuracy: 0.6862\n",
      "Epoch 10/10\n",
      "800/800 [==============================] - 5s 7ms/step - loss: 0.5674 - accuracy: 0.7013\n"
     ]
    },
    {
     "data": {
      "text/plain": [
       "<keras.callbacks.History at 0x7fb06a8cd130>"
      ]
     },
     "execution_count": 36,
     "metadata": {},
     "output_type": "execute_result"
    }
   ],
   "source": [
    "model.fit(X_train, y_train, batch_size=1, epochs=10)"
   ]
  },
  {
   "cell_type": "code",
   "execution_count": 38,
   "metadata": {},
   "outputs": [
    {
     "name": "stdout",
     "output_type": "stream",
     "text": [
      "Confusion Matrix: \n",
      " [[83 19]\n",
      " [39 59]]\n",
      "Accuracy on Test Data:0.71\n"
     ]
    }
   ],
   "source": [
    "y_pred = 1 * (model.predict(X_test) > 0.5)\n",
    "print(\"Confusion Matrix: \\n {}\".format(confusion_matrix(y_test, y_pred)))\n",
    "print('Accuracy on Test Data:{:.3}'.format(accuracy_score(y_test, y_pred)))"
   ]
  },
  {
   "cell_type": "markdown",
   "metadata": {},
   "source": [
    "## Pytorch"
   ]
  },
  {
   "cell_type": "code",
   "execution_count": 41,
   "metadata": {},
   "outputs": [],
   "source": [
    "import torch\n",
    "import torch.nn as nn"
   ]
  },
  {
   "cell_type": "code",
   "execution_count": 43,
   "metadata": {},
   "outputs": [],
   "source": [
    "class Net(nn.Module):\n",
    "    \n",
    "    def __init__(self):\n",
    "        super(Net, self).__init__()\n",
    "        self.dense1 = nn.Linear(2, 2)\n",
    "        self.dense2 = nn.Linear(2, 1)\n",
    "        \n",
    "    \n",
    "    def forward(self, x):\n",
    "        x_1 = torch.relu(self.dense1(x))\n",
    "        x_2 = torch.sigmoid(self.dense2(x_1))\n",
    "        return x_2\n",
    "    \n",
    "model = Net()"
   ]
  },
  {
   "cell_type": "code",
   "execution_count": 44,
   "metadata": {},
   "outputs": [
    {
     "data": {
      "text/plain": [
       "Net(\n",
       "  (dense1): Linear(in_features=2, out_features=2, bias=True)\n",
       "  (dense2): Linear(in_features=2, out_features=1, bias=True)\n",
       ")"
      ]
     },
     "execution_count": 44,
     "metadata": {},
     "output_type": "execute_result"
    }
   ],
   "source": [
    "model"
   ]
  },
  {
   "cell_type": "code",
   "execution_count": 45,
   "metadata": {},
   "outputs": [],
   "source": [
    "criterion = nn.BCELoss()\n",
    "optimizer = torch.optim.Adam(model.parameters())"
   ]
  },
  {
   "cell_type": "code",
   "execution_count": 47,
   "metadata": {},
   "outputs": [],
   "source": [
    "X_train_t = torch.from_numpy(X_train)\n",
    "X_test_t = torch.from_numpy(X_test)\n",
    "y_train_t = torch.from_numpy(y_train)\n",
    "y_test_t = torch.from_numpy(y_test)"
   ]
  },
  {
   "cell_type": "code",
   "execution_count": 48,
   "metadata": {},
   "outputs": [],
   "source": [
    "trainloader = torch.utils.data.DataLoader(torch.utils.data.TensorDataset(X_train_t, y_train_t), batch_size=1)"
   ]
  },
  {
   "cell_type": "code",
   "execution_count": 61,
   "metadata": {},
   "outputs": [],
   "source": [
    "for i in range(10):\n",
    "    for t, data in enumerate(trainloader):\n",
    "        inputs, labels = data\n",
    "        optimizer.zero_grad()\n",
    "        y_pred = model(inputs.float()) # forward pass\n",
    "        loss = criterion(y_pred, labels.float().reshape(-1,1)) # Error Calculation\n",
    "        loss.backward() # Backpropagation\n",
    "        optimizer.step() # Weight update"
   ]
  },
  {
   "cell_type": "code",
   "execution_count": 62,
   "metadata": {},
   "outputs": [],
   "source": [
    "y_pred = model(X_test_t.float())\n",
    "y_pred = y_pred.detach().numpy()"
   ]
  },
  {
   "cell_type": "code",
   "execution_count": 63,
   "metadata": {},
   "outputs": [
    {
     "name": "stdout",
     "output_type": "stream",
     "text": [
      "Confusion Matrix: \n",
      " [[102   0]\n",
      " [ 98   0]]\n",
      "Accuracy on Test Data:0.51\n"
     ]
    }
   ],
   "source": [
    "y_pred = 1 * (y_pred  > 0.5)\n",
    "print(\"Confusion Matrix: \\n {}\".format(confusion_matrix(y_test_t, y_pred)))\n",
    "print('Accuracy on Test Data:{:.3}'.format(accuracy_score(y_test_t, y_pred)))"
   ]
  },
  {
   "cell_type": "code",
   "execution_count": null,
   "metadata": {},
   "outputs": [],
   "source": []
  }
 ],
 "metadata": {
  "interpreter": {
   "hash": "349685ddab4de3e617d5d1f75bb6f0e29f0518f749ceb096a74f86c732fe9b73"
  },
  "kernelspec": {
   "display_name": "Python 3.9.7 ('kodluyoruz_environment')",
   "language": "python",
   "name": "python3"
  },
  "language_info": {
   "codemirror_mode": {
    "name": "ipython",
    "version": 3
   },
   "file_extension": ".py",
   "mimetype": "text/x-python",
   "name": "python",
   "nbconvert_exporter": "python",
   "pygments_lexer": "ipython3",
   "version": "3.9.7"
  },
  "orig_nbformat": 4
 },
 "nbformat": 4,
 "nbformat_minor": 2
}
